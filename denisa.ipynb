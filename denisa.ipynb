{
 "cells": [
  {
   "cell_type": "code",
   "execution_count": null,
   "id": "1d386d61",
   "metadata": {},
   "outputs": [
    {
     "name": "stdout",
     "output_type": "stream",
     "text": [
      "0       24.0\n",
      "1       24.0\n",
      "2       24.0\n",
      "3       24.0\n",
      "4       24.0\n",
      "        ... \n",
      "1995    24.0\n",
      "1996    24.0\n",
      "1997    24.0\n",
      "1998    24.0\n",
      "1999    24.0\n",
      "Length: 2000, dtype: float64\n",
      "      Student_ID  Study_Hours_Per_Day  Extracurricular_Hours_Per_Day  \\\n",
      "10            11                  9.7                            3.6   \n",
      "23            24                  6.1                            1.7   \n",
      "35            36                  9.1                            2.2   \n",
      "49            50                  9.4                            3.0   \n",
      "68            69                  7.3                            2.2   \n",
      "...          ...                  ...                            ...   \n",
      "1968        1969                  8.6                            2.3   \n",
      "1978        1979                  6.3                            3.4   \n",
      "1982        1983                  6.3                            2.4   \n",
      "1988        1989                  7.3                            1.4   \n",
      "1990        1991                  8.6                            3.8   \n",
      "\n",
      "      Sleep_Hours_Per_Day  Social_Hours_Per_Day  \\\n",
      "10                    8.0                   2.5   \n",
      "23                    9.1                   5.2   \n",
      "35                    7.6                   1.2   \n",
      "49                    8.5                   2.2   \n",
      "68                    9.7                   1.9   \n",
      "...                   ...                   ...   \n",
      "1968                  5.4                   4.2   \n",
      "1978                  9.5                   0.9   \n",
      "1982                  8.1                   0.9   \n",
      "1988                  8.5                   4.6   \n",
      "1990                  9.2                   2.2   \n",
      "\n",
      "      Physical_Activity_Hours_Per_Day Stress_Level  Gender  Grades  \n",
      "10                                0.2         High    Male    8.57  \n",
      "23                                1.9     Moderate  Female    7.12  \n",
      "35                                3.9         High    Male    7.80  \n",
      "49                                0.9         High  Female    7.95  \n",
      "68                                2.9     Moderate  Female    7.88  \n",
      "...                               ...          ...     ...     ...  \n",
      "1968                              3.5         High    Male    8.45  \n",
      "1978                              3.9     Moderate    Male    7.42  \n",
      "1982                              6.3     Moderate  Female    7.68  \n",
      "1988                              2.2     Moderate    Male    8.20  \n",
      "1990                              0.2         High  Female    8.15  \n",
      "\n",
      "[188 rows x 9 columns]\n",
      "False\n"
     ]
    }
   ],
   "source": [
    "import pandas as pd\n",
    "import numpy as np\n",
    "\n",
    "df = pd.read_csv(r'/Volumes/MASTER/Year 1/ML/student_lifestyle_dataset..csv')\n",
    "\n",
    "sums = sum([df['Study_Hours_Per_Day'], df['Extracurricular_Hours_Per_Day'], df['Sleep_Hours_Per_Day'], df['Social_Hours_Per_Day'], df['Physical_Activity_Hours_Per_Day']])\n",
    "print(sums)\n",
    "boolean = (sums.astype(int) == 24)\n",
    "false_rows = df[~boolean]\n",
    "print(false_rows)\n",
    "\n",
    "areThey24h = (sums == sums.iloc[0]).all()\n",
    "print(areThey24h)\n",
    "\n",
    "\n"
   ]
  }
 ],
 "metadata": {
  "kernelspec": {
   "display_name": "dtuML",
   "language": "python",
   "name": "python3"
  },
  "language_info": {
   "codemirror_mode": {
    "name": "ipython",
    "version": 3
   },
   "file_extension": ".py",
   "mimetype": "text/x-python",
   "name": "python",
   "nbconvert_exporter": "python",
   "pygments_lexer": "ipython3",
   "version": "3.11.13"
  }
 },
 "nbformat": 4,
 "nbformat_minor": 5
}
