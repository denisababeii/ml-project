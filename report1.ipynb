{
 "cells": [
  {
   "cell_type": "code",
   "execution_count": null,
   "id": "24e308b6",
   "metadata": {},
   "outputs": [],
   "source": [
    "#import packages\n",
    "import pandas as pd \n",
    "import numpy as np\n",
    "\n",
    "import seaborn as sns\n",
    "import matplotlib.pyplot as plt\n",
    "\n",
    "#load dataset\n",
    "df = pd.read_csv('student_lifestyle_dataset_full..csv')\n"
   ]
  },
  {
   "cell_type": "code",
   "execution_count": null,
   "id": "b22816ac",
   "metadata": {},
   "outputs": [],
   "source": [
    "#get an idea of the dataset\n",
    "print(df.head())\n",
    "print(df.info())\n",
    "print(df.describe())\n"
   ]
  },
  {
   "cell_type": "code",
   "execution_count": null,
   "id": "98d386a8",
   "metadata": {},
   "outputs": [],
   "source": [
    "#mean and max stuff\n",
    "\n",
    "numeric_df = df.select_dtypes(include=['float64', 'int64'])\n",
    "categorical_df = df.select_dtypes(include=['object'])\n",
    "\n",
    "ranges = numeric_df.max() - numeric_df.min()\n",
    "std_devs = numeric_df.std()\n",
    "means = numeric_df.mean()\n",
    "\n",
    "stats_summary = pd.DataFrame({\n",
    "    \"Min\": numeric_df.min(),\n",
    "    \"Max\": numeric_df.max(),\n",
    "    \"Range\": ranges,\n",
    "    \"Mean\": means,\n",
    "    \"Standard Deviation\": std_devs\n",
    "})\n",
    "\n",
    "print(\"=== Range and Standard Deviation of Numeric Attributes ===\")\n",
    "print(stats_summary)\n",
    "\n",
    "print(\"\\n=== Frequency counts of Categorical Attributes ===\")\n",
    "for col in categorical_df.columns:\n",
    "    print(f\"\\n{col}:\")\n",
    "    counts = categorical_df[col].value_counts()\n",
    "    print(dict(counts))"
   ]
  },
  {
   "cell_type": "code",
   "execution_count": null,
   "id": "21e988e5",
   "metadata": {},
   "outputs": [],
   "source": [
    "#visualise using seaborn \n",
    "\n",
    "palette = sns.color_palette('deep', 7)\n",
    "fig, axes = plt.subplots(2, 3, figsize=(18, 10))\n",
    "\n",
    "sns.histplot(ax=axes[0, 0], data=df, x='Study_Hours_Per_Day',color=palette[0])\n",
    "sns.histplot(ax=axes[0, 1], data=df, x='Extracurricular_Hours_Per_Day', color=palette[1])\n",
    "sns.histplot(ax=axes[0, 2], data=df, x='Sleep_Hours_Per_Day', color=palette[2])\n",
    "sns.histplot(ax=axes[1, 0], data=df, x='Social_Hours_Per_Day', color=palette[3])\n",
    "sns.histplot(ax=axes[1, 1], data=df, x='Physical_Activity_Hours_Per_Day', color=palette[4])\n",
    "sns.histplot(ax=axes[1, 2], data=df, x='Stress_Level', color=palette[5])\n"
   ]
  },
  {
   "cell_type": "code",
   "execution_count": null,
   "id": "52a9c04d",
   "metadata": {},
   "outputs": [],
   "source": [
    "sns.histplot(data=df, x='Grades', color=palette[6])"
   ]
  },
  {
   "cell_type": "markdown",
   "id": "d439bf78",
   "metadata": {},
   "source": [
    "check for types, nan, dropping student id, see if 24 hours"
   ]
  },
  {
   "cell_type": "code",
   "execution_count": null,
   "id": "305c5e73",
   "metadata": {},
   "outputs": [],
   "source": []
  }
 ],
 "metadata": {
  "language_info": {
   "name": "python"
  }
 },
 "nbformat": 4,
 "nbformat_minor": 5
}
