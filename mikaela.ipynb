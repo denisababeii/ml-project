{
 "cells": [
  {
   "cell_type": "code",
   "execution_count": 3,
   "id": "45596e4b",
   "metadata": {},
   "outputs": [
    {
     "name": "stdout",
     "output_type": "stream",
     "text": [
      "=== Range and Standard Deviation of Numeric Attributes ===\n",
      "                                 Min     Max   Range         Mean  \\\n",
      "Student_ID                       1.0  2000.0  1999.0  1000.500000   \n",
      "Study_Hours_Per_Day              5.0    10.0     5.0     7.475800   \n",
      "Extracurricular_Hours_Per_Day    0.0     4.0     4.0     1.990100   \n",
      "Sleep_Hours_Per_Day              5.0    10.0     5.0     7.501250   \n",
      "Social_Hours_Per_Day             0.0     6.0     6.0     2.704550   \n",
      "Physical_Activity_Hours_Per_Day  0.0    13.0    13.0     4.328300   \n",
      "Grades                           5.6    10.0     4.4     7.789825   \n",
      "\n",
      "                                 Standard Deviation  \n",
      "Student_ID                               577.494589  \n",
      "Study_Hours_Per_Day                        1.423888  \n",
      "Extracurricular_Hours_Per_Day              1.155855  \n",
      "Sleep_Hours_Per_Day                        1.460949  \n",
      "Social_Hours_Per_Day                       1.688514  \n",
      "Physical_Activity_Hours_Per_Day            2.514110  \n",
      "Grades                                     0.746777  \n",
      "\n",
      "=== Frequency counts of Categorical Attributes ===\n",
      "\n",
      "Stress_Level:\n",
      "{'High': np.int64(1029), 'Moderate': np.int64(674), 'Low': np.int64(297)}\n",
      "\n",
      "Gender:\n",
      "{'Male': np.int64(1016), 'Female': np.int64(984)}\n"
     ]
    }
   ],
   "source": [
    "import pandas as pd\n",
    "\n",
    "file_path = \"student_lifestyle_dataset_full..csv\" \n",
    "df = pd.read_csv(file_path)\n",
    "\n",
    "numeric_df = df.select_dtypes(include=['float64', 'int64'])\n",
    "categorical_df = df.select_dtypes(include=['object'])\n",
    "\n",
    "ranges = numeric_df.max() - numeric_df.min()\n",
    "std_devs = numeric_df.std()\n",
    "means = numeric_df.mean()\n",
    "\n",
    "stats_summary = pd.DataFrame({\n",
    "    \"Min\": numeric_df.min(),\n",
    "    \"Max\": numeric_df.max(),\n",
    "    \"Range\": ranges,\n",
    "    \"Mean\": means,\n",
    "    \"Standard Deviation\": std_devs\n",
    "})\n",
    "\n",
    "print(\"=== Range and Standard Deviation of Numeric Attributes ===\")\n",
    "print(stats_summary)\n",
    "\n",
    "print(\"\\n=== Frequency counts of Categorical Attributes ===\")\n",
    "for col in categorical_df.columns:\n",
    "    print(f\"\\n{col}:\")\n",
    "    counts = categorical_df[col].value_counts()\n",
    "    print(dict(counts))"
   ]
  }
 ],
 "metadata": {
  "kernelspec": {
   "display_name": "dtu02452",
   "language": "python",
   "name": "python3"
  },
  "language_info": {
   "codemirror_mode": {
    "name": "ipython",
    "version": 3
   },
   "file_extension": ".py",
   "mimetype": "text/x-python",
   "name": "python",
   "nbconvert_exporter": "python",
   "pygments_lexer": "ipython3",
   "version": "3.13.5"
  }
 },
 "nbformat": 4,
 "nbformat_minor": 5
}
